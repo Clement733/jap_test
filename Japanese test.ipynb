{
 "cells": [
  {
   "cell_type": "code",
   "execution_count": 13,
   "id": "82d7e73c",
   "metadata": {},
   "outputs": [],
   "source": [
    "import csv\n",
    "import pandas as pd"
   ]
  },
  {
   "cell_type": "code",
   "execution_count": 14,
   "id": "a1a4ecd0",
   "metadata": {},
   "outputs": [],
   "source": [
    "words = pd.read_csv('words.csv')"
   ]
  },
  {
   "cell_type": "code",
   "execution_count": 15,
   "id": "054e97a3",
   "metadata": {
    "scrolled": true
   },
   "outputs": [
    {
     "data": {
      "text/html": [
       "<div>\n",
       "<style scoped>\n",
       "    .dataframe tbody tr th:only-of-type {\n",
       "        vertical-align: middle;\n",
       "    }\n",
       "\n",
       "    .dataframe tbody tr th {\n",
       "        vertical-align: top;\n",
       "    }\n",
       "\n",
       "    .dataframe thead th {\n",
       "        text-align: right;\n",
       "    }\n",
       "</style>\n",
       "<table border=\"1\" class=\"dataframe\">\n",
       "  <thead>\n",
       "    <tr style=\"text-align: right;\">\n",
       "      <th></th>\n",
       "      <th>Français</th>\n",
       "      <th>Hiragana</th>\n",
       "      <th>Kanji</th>\n",
       "    </tr>\n",
       "  </thead>\n",
       "  <tbody>\n",
       "    <tr>\n",
       "      <th>0</th>\n",
       "      <td>enseignant</td>\n",
       "      <td>きょうし</td>\n",
       "      <td>教室</td>\n",
       "    </tr>\n",
       "    <tr>\n",
       "      <th>1</th>\n",
       "      <td>étudiant</td>\n",
       "      <td>がくせい</td>\n",
       "      <td>学生</td>\n",
       "    </tr>\n",
       "    <tr>\n",
       "      <th>2</th>\n",
       "      <td>employé d'une compagnie</td>\n",
       "      <td>かいしゃいん</td>\n",
       "      <td>会社員</td>\n",
       "    </tr>\n",
       "    <tr>\n",
       "      <th>3</th>\n",
       "      <td>employé (avec nom de compagnie)</td>\n",
       "      <td>しゃいん</td>\n",
       "      <td>社員</td>\n",
       "    </tr>\n",
       "    <tr>\n",
       "      <th>4</th>\n",
       "      <td>employé de banque</td>\n",
       "      <td>ぎんこういん</td>\n",
       "      <td>銀行員</td>\n",
       "    </tr>\n",
       "  </tbody>\n",
       "</table>\n",
       "</div>"
      ],
      "text/plain": [
       "                          Français Hiragana Kanji\n",
       "0                       enseignant     きょうし    教室\n",
       "1                         étudiant     がくせい    学生\n",
       "2          employé d'une compagnie   かいしゃいん   会社員\n",
       "3  employé (avec nom de compagnie)     しゃいん    社員\n",
       "4                employé de banque   ぎんこういん   銀行員"
      ]
     },
     "execution_count": 15,
     "metadata": {},
     "output_type": "execute_result"
    }
   ],
   "source": [
    "words.head()"
   ]
  },
  {
   "cell_type": "code",
   "execution_count": 16,
   "id": "7f4fabee",
   "metadata": {},
   "outputs": [
    {
     "data": {
      "text/html": [
       "<div>\n",
       "<style scoped>\n",
       "    .dataframe tbody tr th:only-of-type {\n",
       "        vertical-align: middle;\n",
       "    }\n",
       "\n",
       "    .dataframe tbody tr th {\n",
       "        vertical-align: top;\n",
       "    }\n",
       "\n",
       "    .dataframe thead th {\n",
       "        text-align: right;\n",
       "    }\n",
       "</style>\n",
       "<table border=\"1\" class=\"dataframe\">\n",
       "  <thead>\n",
       "    <tr style=\"text-align: right;\">\n",
       "      <th></th>\n",
       "      <th>Français</th>\n",
       "      <th>Hiragana</th>\n",
       "      <th>Kanji</th>\n",
       "    </tr>\n",
       "  </thead>\n",
       "  <tbody>\n",
       "    <tr>\n",
       "      <th>0</th>\n",
       "      <td>enseignant</td>\n",
       "      <td>きょうし</td>\n",
       "      <td>教室</td>\n",
       "    </tr>\n",
       "  </tbody>\n",
       "</table>\n",
       "</div>"
      ],
      "text/plain": [
       "     Français Hiragana Kanji\n",
       "0  enseignant     きょうし    教室"
      ]
     },
     "execution_count": 16,
     "metadata": {},
     "output_type": "execute_result"
    }
   ],
   "source": [
    "words[words['Français'] == 'enseignant']"
   ]
  },
  {
   "cell_type": "code",
   "execution_count": 17,
   "id": "219a9a0a",
   "metadata": {},
   "outputs": [],
   "source": [
    "shuffled_words = words.sample(frac=1).reset_index(drop=True)"
   ]
  },
  {
   "cell_type": "code",
   "execution_count": 18,
   "id": "f46968ef",
   "metadata": {},
   "outputs": [
    {
     "name": "stdout",
     "output_type": "stream",
     "text": [
      "What's thé anglais?こうちゃ\n",
      "And the kanji?紅茶\n",
      "Correct!\n",
      "What's bibliothèque?としょかん\n",
      "And the kanji?図書館\n",
      "Correct!\n",
      "What's spécial express?とっきゅう\n",
      "And the kanji?特急\n",
      "Correct!\n",
      "What's magazine?ざっし\n",
      "And the kanji?雑誌\n",
      "Correct!\n",
      "What's hôpital?びょういん\n",
      "And the kanji?病院\n",
      "Correct!\n",
      "What's étudier?べんきょうします\n",
      "And the kanji?勉強します\n",
      "Correct!\n",
      "What's souvenir?おみやぎ\n",
      "Incorrect! The correct answer is おみやげ\n"
     ]
    }
   ],
   "source": [
    "seen=[]\n",
    "correct_count = 0\n",
    "for i in range(len(shuffled_words)):\n",
    "    if shuffled_words['Français'][i] not in seen:\n",
    "        ask_h = input(f\"What's {shuffled_words['Français'][i]}?\")\n",
    "        if ask_h == shuffled_words['Hiragana'][i]:\n",
    "            if shuffled_words['Kanji'][i] != None:\n",
    "                ask_k = input(\"And the kanji?\")\n",
    "                if ask_k == shuffled_words['Kanji'][i]:\n",
    "                    seen.append(shuffled_words['Français'][i])\n",
    "                    correct_count += 1\n",
    "                    print('Correct!')\n",
    "                else:\n",
    "                    print(f\"Incorrect! The correct answer is {shuffled_words['Kanji'][i]}\")\n",
    "                    break\n",
    "        else:\n",
    "            print(f\"Incorrect! The correct answer is {shuffled_words['Hiragana'][i]}\")\n",
    "            break\n",
    "\n",
    "if correct_count == len(shuffled_words):\n",
    "    print(\"Congratulations! You answered all questions correctly.\")"
   ]
  }
 ],
 "metadata": {
  "kernelspec": {
   "display_name": "Python 3 (ipykernel)",
   "language": "python",
   "name": "python3"
  },
  "language_info": {
   "codemirror_mode": {
    "name": "ipython",
    "version": 3
   },
   "file_extension": ".py",
   "mimetype": "text/x-python",
   "name": "python",
   "nbconvert_exporter": "python",
   "pygments_lexer": "ipython3",
   "version": "3.10.6"
  },
  "toc": {
   "base_numbering": 1,
   "nav_menu": {},
   "number_sections": true,
   "sideBar": true,
   "skip_h1_title": false,
   "title_cell": "Table of Contents",
   "title_sidebar": "Contents",
   "toc_cell": false,
   "toc_position": {},
   "toc_section_display": true,
   "toc_window_display": false
  },
  "varInspector": {
   "cols": {
    "lenName": 16,
    "lenType": 16,
    "lenVar": 40
   },
   "kernels_config": {
    "python": {
     "delete_cmd_postfix": "",
     "delete_cmd_prefix": "del ",
     "library": "var_list.py",
     "varRefreshCmd": "print(var_dic_list())"
    },
    "r": {
     "delete_cmd_postfix": ") ",
     "delete_cmd_prefix": "rm(",
     "library": "var_list.r",
     "varRefreshCmd": "cat(var_dic_list()) "
    }
   },
   "types_to_exclude": [
    "module",
    "function",
    "builtin_function_or_method",
    "instance",
    "_Feature"
   ],
   "window_display": false
  }
 },
 "nbformat": 4,
 "nbformat_minor": 5
}
