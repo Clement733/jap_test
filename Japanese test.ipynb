{
 "cells": [
  {
   "cell_type": "code",
   "execution_count": 1,
   "id": "82d7e73c",
   "metadata": {},
   "outputs": [],
   "source": [
    "import pandas as pd\n",
    "import Levenshtein"
   ]
  },
  {
   "cell_type": "code",
   "execution_count": 2,
   "id": "a1a4ecd0",
   "metadata": {},
   "outputs": [],
   "source": [
    "words = pd.read_csv('words.csv')"
   ]
  },
  {
   "cell_type": "code",
   "execution_count": 3,
   "id": "054e97a3",
   "metadata": {
    "scrolled": true
   },
   "outputs": [
    {
     "data": {
      "text/html": [
       "<div>\n",
       "<style scoped>\n",
       "    .dataframe tbody tr th:only-of-type {\n",
       "        vertical-align: middle;\n",
       "    }\n",
       "\n",
       "    .dataframe tbody tr th {\n",
       "        vertical-align: top;\n",
       "    }\n",
       "\n",
       "    .dataframe thead th {\n",
       "        text-align: right;\n",
       "    }\n",
       "</style>\n",
       "<table border=\"1\" class=\"dataframe\">\n",
       "  <thead>\n",
       "    <tr style=\"text-align: right;\">\n",
       "      <th></th>\n",
       "      <th>Français</th>\n",
       "      <th>Hiragana</th>\n",
       "      <th>Kanji</th>\n",
       "    </tr>\n",
       "  </thead>\n",
       "  <tbody>\n",
       "    <tr>\n",
       "      <th>0</th>\n",
       "      <td>enseignant</td>\n",
       "      <td>きょうし</td>\n",
       "      <td>教室</td>\n",
       "    </tr>\n",
       "    <tr>\n",
       "      <th>1</th>\n",
       "      <td>étudiant</td>\n",
       "      <td>がくせい</td>\n",
       "      <td>学生</td>\n",
       "    </tr>\n",
       "    <tr>\n",
       "      <th>2</th>\n",
       "      <td>employé d'une compagnie</td>\n",
       "      <td>かいしゃいん</td>\n",
       "      <td>会社員</td>\n",
       "    </tr>\n",
       "    <tr>\n",
       "      <th>3</th>\n",
       "      <td>employé (avec nom de compagnie)</td>\n",
       "      <td>しゃいん</td>\n",
       "      <td>社員</td>\n",
       "    </tr>\n",
       "    <tr>\n",
       "      <th>4</th>\n",
       "      <td>employé de banque</td>\n",
       "      <td>ぎんこういん</td>\n",
       "      <td>銀行員</td>\n",
       "    </tr>\n",
       "  </tbody>\n",
       "</table>\n",
       "</div>"
      ],
      "text/plain": [
       "                          Français Hiragana Kanji\n",
       "0                       enseignant     きょうし    教室\n",
       "1                         étudiant     がくせい    学生\n",
       "2          employé d'une compagnie   かいしゃいん   会社員\n",
       "3  employé (avec nom de compagnie)     しゃいん    社員\n",
       "4                employé de banque   ぎんこういん   銀行員"
      ]
     },
     "execution_count": 3,
     "metadata": {},
     "output_type": "execute_result"
    }
   ],
   "source": [
    "words.head()"
   ]
  },
  {
   "cell_type": "code",
   "execution_count": 4,
   "id": "219a9a0a",
   "metadata": {},
   "outputs": [],
   "source": [
    "shuffled_words = words.sample(frac=1).reset_index(drop=True)"
   ]
  },
  {
   "cell_type": "code",
   "execution_count": 5,
   "id": "63627ed9",
   "metadata": {},
   "outputs": [],
   "source": [
    "def is_similar_japanese_answer(user_answer, correct_answer):\n",
    "    similarity_threshold = 0.8\n",
    "    if pd.isna(user_answer) or pd.isna(correct_answer):\n",
    "        return False\n",
    "    distance = Levenshtein.distance(user_answer.lower(), correct_answer.lower())\n",
    "    similarity = 1 - (distance / max(len(user_answer), len(correct_answer)))\n",
    "    return similarity >= similarity_threshold"
   ]
  },
  {
   "cell_type": "code",
   "execution_count": 6,
   "id": "28d12367",
   "metadata": {},
   "outputs": [],
   "source": [
    "def is_similar_french_answer(user_answer, correct_answer):\n",
    "    similarity_threshold = 0.5\n",
    "    if pd.isna(user_answer) or pd.isna(correct_answer):\n",
    "        return False\n",
    "    user_answer = user_answer.lower()\n",
    "    correct_answer = correct_answer.lower()\n",
    "    substring_match = user_answer in correct_answer or correct_answer in user_answer\n",
    "    if substring_match:\n",
    "        return True\n",
    "    distance = Levenshtein.distance(user_answer, correct_answer)\n",
    "    similarity = 1 - (distance / max(len(user_answer), len(correct_answer)))\n",
    "    \n",
    "    return similarity >= similarity_threshold"
   ]
  },
  {
   "cell_type": "code",
   "execution_count": 7,
   "id": "f46968ef",
   "metadata": {},
   "outputs": [
    {
     "name": "stdout",
     "output_type": "stream",
     "text": [
      "Comment dire sous-sol en hiragana ?ちした\n",
      "Incorrect ! La bonne réponse est : ちか\n",
      "Bonnes réponses : 0/10\n",
      "Comment dire réparer en hiragana ?ｊ\n",
      "Incorrect ! La bonne réponse est : しゅうりします\n",
      "Bonnes réponses : 0/10\n",
      "Comment dire chef de département en hiragana ?所長\n",
      "Incorrect ! La bonne réponse est : ぶちょう\n",
      "Bonnes réponses : 0/10\n",
      "Comment dire avion en hiragana ?くうこう\n",
      "Incorrect ! La bonne réponse est : ひこうき\n",
      "Bonnes réponses : 0/10\n",
      "Comment dire mari (de quelqu'un d'autre) en hiragana ?ひま\n",
      "Incorrect ! La bonne réponse est : ごしゅじん\n",
      "Bonnes réponses : 0/10\n",
      "Comment dire temple bouddhiste en hiragana ?て\n",
      "Incorrect ! La bonne réponse est : てら\n",
      "Bonnes réponses : 0/10\n",
      "Comment dire sous-vêtement en hiragana ?したぎ\n",
      "Et en kanji ?下着\n",
      "Correct !\n",
      "Bonnes réponses : 1/10\n",
      "Comment dire bureau en hiragana ?つくえ\n",
      "Incorrect ! La bonne réponse est : じむしょ\n",
      "Bonnes réponses : 1/10\n",
      "Comment dire mairie en hiragana ?ｔ\n",
      "Incorrect ! La bonne réponse est : しやくしょ\n",
      "Bonnes réponses : 1/10\n",
      "Comment dire se lever / réveiller en hiragana ?おきます\n",
      "Et en kanji ?起きます\n",
      "Correct !\n",
      "Bonnes réponses : 2/10\n"
     ]
    }
   ],
   "source": [
    "seen_fr=[]\n",
    "correct_count = 0\n",
    "score_fr = 0\n",
    "shuffled_sample = shuffled_words.sample(n=10)\n",
    "for i in range(len(shuffled_sample)):\n",
    "    if shuffled_sample['Français'].iloc[i] not in seen_fr:\n",
    "        ask_h = input(f\"Comment dire {shuffled_sample['Français'].iloc[i]} en hiragana ?\")\n",
    "        if is_similar_japanese_answer(ask_h, shuffled_sample['Hiragana'].iloc[i]):\n",
    "            if shuffled_sample['Kanji'].iloc[i] != None:\n",
    "                ask_k = input(\"Et en kanji ?\")\n",
    "                if is_similar_japanese_answer(ask_k, shuffled_sample['Kanji'].iloc[i]):\n",
    "                    seen_fr.append(shuffled_sample['Français'].iloc[i])\n",
    "                    correct_count += 1\n",
    "                    score_fr += 1\n",
    "                    print('Correct !')\n",
    "                    print(f'Bonnes réponses : {score_fr}/{len(shuffled_sample)}')\n",
    "                else:\n",
    "                    print(f\"Incorrect ! La bonne réponse est : {shuffled_sample['Kanji'].iloc[i]}\")\n",
    "                    print(f'Bonnes réponses : {score_fr}/{len(shuffled_sample)}')\n",
    "        else:\n",
    "            print(f\"Incorrect ! La bonne réponse est : {shuffled_sample['Hiragana'].iloc[i]}\")\n",
    "            print(f'Bonnes réponses : {score_fr}/{len(shuffled_sample)}')\n",
    "\n",
    "if correct_count == len(shuffled_sample):\n",
    "    print(\"Félicitations ! Vous avez répondu correctement à toutes les réponses.\")"
   ]
  },
  {
   "cell_type": "code",
   "execution_count": 8,
   "id": "4c9f1d8f",
   "metadata": {},
   "outputs": [
    {
     "name": "stdout",
     "output_type": "stream",
     "text": [
      "Qu'est-ce que ce kanji : 名称?nom\n",
      "Incorrecte ! La bonne réponse était : carte de visite\n",
      "Bonnes réponses : 0/10\n",
      "Qu'est-ce que ce kanji : 兄弟?frère et soeur\n",
      "Correct ! C'était bien frères et soeurs\n",
      "Bonnes réponses : 1/10\n",
      "Qu'est-ce que ce kanji : 大学?université\n",
      "Correct ! C'était bien université\n",
      "Bonnes réponses : 2/10\n",
      "Qu'est-ce que ce kanji : お土産?souvenirs\n",
      "Correct ! C'était bien souvenir\n",
      "Bonnes réponses : 3/10\n",
      "Qu'est-ce que ce kanji : 飛行機?avion\n",
      "Correct ! C'était bien avion\n",
      "Bonnes réponses : 4/10\n",
      "Qu'est-ce que ce kanji : 去年?année dernière\n",
      "Correct ! C'était bien l'année dernière\n",
      "Bonnes réponses : 5/10\n",
      "Qu'est-ce que ce kanji : 金額?monnaie\n",
      "Incorrecte ! La bonne réponse était : montant/somme d'argent\n",
      "Bonnes réponses : 5/10\n",
      "Qu'est-ce que ce kanji : 出張します?voyage d'affaire\n",
      "Correct ! C'était bien faire un voyage d'affaires\n",
      "Bonnes réponses : 6/10\n",
      "Qu'est-ce que ce kanji : 試験?expérience\n",
      "Incorrecte ! La bonne réponse était : examen\n",
      "Bonnes réponses : 6/10\n",
      "Qu'est-ce que ce kanji : 勉強します?étudier\n",
      "Correct ! C'était bien étudier\n",
      "Bonnes réponses : 7/10\n"
     ]
    }
   ],
   "source": [
    "seen_k=[]\n",
    "correct_count = 0\n",
    "score_jp = 0\n",
    "shuffled_sample = shuffled_words.sample(n=10)\n",
    "for i in range(len(shuffled_sample)):\n",
    "    kanji = shuffled_sample['Kanji'].iloc[i]\n",
    "    if pd.notna(kanji) and kanji not in seen_k:\n",
    "        ask_h = input(f\"Que veut dire ce kanji : {kanji}?\")\n",
    "        if is_similar_french_answer(ask_h, shuffled_sample['Français'].iloc[i]):\n",
    "            seen_k.append(kanji)\n",
    "            correct_count += 1\n",
    "            score_jp += 1\n",
    "            print(f\"Correct ! C'était bien {shuffled_sample['Français'].iloc[i]}\")\n",
    "            print(f'Bonnes réponses : {score_jp}/{len(shuffled_sample)}')\n",
    "        else:\n",
    "            print(f\"Incorrecte ! La bonne réponse était : {shuffled_sample['Français'].iloc[i]}\")\n",
    "            print(f'Bonnes réponses : {score_jp}/{len(shuffled_sample)}')\n",
    "\n",
    "if correct_count == len(shuffled_sample):\n",
    "    print(\"Félicitations ! Vous avez répondu correctement à toutes les réponses.\")"
   ]
  }
 ],
 "metadata": {
  "kernelspec": {
   "display_name": "Python 3 (ipykernel)",
   "language": "python",
   "name": "python3"
  },
  "language_info": {
   "codemirror_mode": {
    "name": "ipython",
    "version": 3
   },
   "file_extension": ".py",
   "mimetype": "text/x-python",
   "name": "python",
   "nbconvert_exporter": "python",
   "pygments_lexer": "ipython3",
   "version": "3.10.6"
  },
  "toc": {
   "base_numbering": 1,
   "nav_menu": {},
   "number_sections": true,
   "sideBar": true,
   "skip_h1_title": false,
   "title_cell": "Table of Contents",
   "title_sidebar": "Contents",
   "toc_cell": false,
   "toc_position": {},
   "toc_section_display": true,
   "toc_window_display": false
  },
  "varInspector": {
   "cols": {
    "lenName": 16,
    "lenType": 16,
    "lenVar": 40
   },
   "kernels_config": {
    "python": {
     "delete_cmd_postfix": "",
     "delete_cmd_prefix": "del ",
     "library": "var_list.py",
     "varRefreshCmd": "print(var_dic_list())"
    },
    "r": {
     "delete_cmd_postfix": ") ",
     "delete_cmd_prefix": "rm(",
     "library": "var_list.r",
     "varRefreshCmd": "cat(var_dic_list()) "
    }
   },
   "types_to_exclude": [
    "module",
    "function",
    "builtin_function_or_method",
    "instance",
    "_Feature"
   ],
   "window_display": false
  }
 },
 "nbformat": 4,
 "nbformat_minor": 5
}
