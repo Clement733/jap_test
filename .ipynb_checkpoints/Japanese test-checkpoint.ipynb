{
 "cells": [
  {
   "cell_type": "code",
   "execution_count": 1,
   "id": "611bca71",
   "metadata": {},
   "outputs": [],
   "source": [
    "import csv\n",
    "import pandas as pd"
   ]
  },
  {
   "cell_type": "code",
   "execution_count": 2,
   "id": "57c6c943",
   "metadata": {},
   "outputs": [],
   "source": [
    "words = pd.read_csv('words.csv')"
   ]
  },
  {
   "cell_type": "code",
   "execution_count": 3,
   "id": "4ae80c66",
   "metadata": {
    "scrolled": true
   },
   "outputs": [
    {
     "data": {
      "text/html": [
       "<div>\n",
       "<style scoped>\n",
       "    .dataframe tbody tr th:only-of-type {\n",
       "        vertical-align: middle;\n",
       "    }\n",
       "\n",
       "    .dataframe tbody tr th {\n",
       "        vertical-align: top;\n",
       "    }\n",
       "\n",
       "    .dataframe thead th {\n",
       "        text-align: right;\n",
       "    }\n",
       "</style>\n",
       "<table border=\"1\" class=\"dataframe\">\n",
       "  <thead>\n",
       "    <tr style=\"text-align: right;\">\n",
       "      <th></th>\n",
       "      <th>Français</th>\n",
       "      <th>Hiragana</th>\n",
       "      <th>Kanji</th>\n",
       "    </tr>\n",
       "  </thead>\n",
       "  <tbody>\n",
       "    <tr>\n",
       "      <th>0</th>\n",
       "      <td>enseignant</td>\n",
       "      <td>きょうし</td>\n",
       "      <td>教室</td>\n",
       "    </tr>\n",
       "    <tr>\n",
       "      <th>1</th>\n",
       "      <td>étudiant</td>\n",
       "      <td>がくせい</td>\n",
       "      <td>学生</td>\n",
       "    </tr>\n",
       "    <tr>\n",
       "      <th>2</th>\n",
       "      <td>employé d'une compagnie</td>\n",
       "      <td>かいしゃいん</td>\n",
       "      <td>会社員</td>\n",
       "    </tr>\n",
       "    <tr>\n",
       "      <th>3</th>\n",
       "      <td>employé (avec nom de compagnie)</td>\n",
       "      <td>しゃいん</td>\n",
       "      <td>社員</td>\n",
       "    </tr>\n",
       "    <tr>\n",
       "      <th>4</th>\n",
       "      <td>employé de banque</td>\n",
       "      <td>ぎんこういん</td>\n",
       "      <td>銀行員</td>\n",
       "    </tr>\n",
       "  </tbody>\n",
       "</table>\n",
       "</div>"
      ],
      "text/plain": [
       "                          Français Hiragana Kanji\n",
       "0                       enseignant     きょうし    教室\n",
       "1                         étudiant     がくせい    学生\n",
       "2          employé d'une compagnie   かいしゃいん   会社員\n",
       "3  employé (avec nom de compagnie)     しゃいん    社員\n",
       "4                employé de banque   ぎんこういん   銀行員"
      ]
     },
     "execution_count": 3,
     "metadata": {},
     "output_type": "execute_result"
    }
   ],
   "source": [
    "words.head()"
   ]
  },
  {
   "cell_type": "code",
   "execution_count": 4,
   "id": "7255fc55",
   "metadata": {},
   "outputs": [
    {
     "data": {
      "text/html": [
       "<div>\n",
       "<style scoped>\n",
       "    .dataframe tbody tr th:only-of-type {\n",
       "        vertical-align: middle;\n",
       "    }\n",
       "\n",
       "    .dataframe tbody tr th {\n",
       "        vertical-align: top;\n",
       "    }\n",
       "\n",
       "    .dataframe thead th {\n",
       "        text-align: right;\n",
       "    }\n",
       "</style>\n",
       "<table border=\"1\" class=\"dataframe\">\n",
       "  <thead>\n",
       "    <tr style=\"text-align: right;\">\n",
       "      <th></th>\n",
       "      <th>Français</th>\n",
       "      <th>Hiragana</th>\n",
       "      <th>Kanji</th>\n",
       "    </tr>\n",
       "  </thead>\n",
       "  <tbody>\n",
       "    <tr>\n",
       "      <th>0</th>\n",
       "      <td>enseignant</td>\n",
       "      <td>きょうし</td>\n",
       "      <td>教室</td>\n",
       "    </tr>\n",
       "  </tbody>\n",
       "</table>\n",
       "</div>"
      ],
      "text/plain": [
       "     Français Hiragana Kanji\n",
       "0  enseignant     きょうし    教室"
      ]
     },
     "execution_count": 4,
     "metadata": {},
     "output_type": "execute_result"
    }
   ],
   "source": [
    "words[words['Français'] == 'enseignant']"
   ]
  },
  {
   "cell_type": "code",
   "execution_count": 5,
   "id": "5380b964",
   "metadata": {},
   "outputs": [],
   "source": [
    "shuffled_words = words.sample(frac=1).reset_index(drop=True)"
   ]
  },
  {
   "cell_type": "code",
   "execution_count": 9,
   "id": "e5ed59ed",
   "metadata": {},
   "outputs": [
    {
     "name": "stdout",
     "output_type": "stream",
     "text": [
      "What's employé d'une compagnie?かいしゃいん\n",
      "And the kanji?会社員\n",
      "Correct!\n",
      "What's carte de visite?カード\n",
      "Incorrect! The correct answer is めいし\n"
     ]
    }
   ],
   "source": [
    "seen=[]\n",
    "correct_count = 0\n",
    "for i in range(len(shuffled_words)):\n",
    "    if shuffled_words['Français'][i] not in seen:\n",
    "        ask_h = input(f\"What's {shuffled_words['Français'][i]}?\")\n",
    "        if ask_h == shuffled_words['Hiragana'][i]:\n",
    "            if shuffled_words['Kanji'][i] != None:\n",
    "                ask_k = input(\"And the kanji?\")\n",
    "                if ask_k == shuffled_words['Kanji'][i]:\n",
    "                    seen.append(shuffled_words['Français'][i])\n",
    "                    correct_count += 1\n",
    "                    print('Correct!')\n",
    "                else:\n",
    "                    print(f\"Incorrect! The correct answer is {shuffled_words['Kanji'][i]}\")\n",
    "                    break\n",
    "        else:\n",
    "            print(f\"Incorrect! The correct answer is {shuffled_words['Hiragana'][i]}\")\n",
    "            break\n",
    "\n",
    "if correct_count == len(shuffled_words):\n",
    "    print(\"Congratulations! You answered all questions correctly.\")"
   ]
  }
 ],
 "metadata": {
  "kernelspec": {
   "display_name": "Python 3 (ipykernel)",
   "language": "python",
   "name": "python3"
  },
  "language_info": {
   "codemirror_mode": {
    "name": "ipython",
    "version": 3
   },
   "file_extension": ".py",
   "mimetype": "text/x-python",
   "name": "python",
   "nbconvert_exporter": "python",
   "pygments_lexer": "ipython3",
   "version": "3.10.6"
  },
  "toc": {
   "base_numbering": 1,
   "nav_menu": {},
   "number_sections": true,
   "sideBar": true,
   "skip_h1_title": false,
   "title_cell": "Table of Contents",
   "title_sidebar": "Contents",
   "toc_cell": false,
   "toc_position": {},
   "toc_section_display": true,
   "toc_window_display": false
  },
  "varInspector": {
   "cols": {
    "lenName": 16,
    "lenType": 16,
    "lenVar": 40
   },
   "kernels_config": {
    "python": {
     "delete_cmd_postfix": "",
     "delete_cmd_prefix": "del ",
     "library": "var_list.py",
     "varRefreshCmd": "print(var_dic_list())"
    },
    "r": {
     "delete_cmd_postfix": ") ",
     "delete_cmd_prefix": "rm(",
     "library": "var_list.r",
     "varRefreshCmd": "cat(var_dic_list()) "
    }
   },
   "types_to_exclude": [
    "module",
    "function",
    "builtin_function_or_method",
    "instance",
    "_Feature"
   ],
   "window_display": false
  }
 },
 "nbformat": 4,
 "nbformat_minor": 5
}
